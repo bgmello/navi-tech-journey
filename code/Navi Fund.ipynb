{
 "cells": [
  {
   "cell_type": "code",
   "execution_count": 1,
   "id": "35f0678c",
   "metadata": {},
   "outputs": [],
   "source": [
    "import pandas as pd\n",
    "import zipfile, urllib.request, shutil"
   ]
  },
  {
   "cell_type": "code",
   "execution_count": 2,
   "id": "fe7210fd",
   "metadata": {},
   "outputs": [],
   "source": [
    "def pad(x):\n",
    "    if(x < 10):\n",
    "        return \"0\" + str(x)\n",
    "    return str(x)"
   ]
  },
  {
   "cell_type": "code",
   "execution_count": 3,
   "id": "efb2ae8e",
   "metadata": {},
   "outputs": [],
   "source": [
    "def download_fund_files(start_date, end_date):\n",
    "    start_date = start_date.split('-')\n",
    "    start_year = start_date[0]\n",
    "    start_month = start_date[1]\n",
    "    end_date = end_date.split('-')\n",
    "    end_year = end_date[0]\n",
    "    end_month = end_date[1]\n",
    "    years = []\n",
    "    for i in range(0, int(end_year) - int(start_year) + 1):\n",
    "        years.append(str((int(start_year) + i)))\n",
    "    for year in years:\n",
    "        if(year == start_year):\n",
    "            months = [pad(x) for x in range(int(start_month), 13)]\n",
    "        elif(year != end_year):\n",
    "            months = [pad(x) for x in range(1, 13)]\n",
    "        else:\n",
    "            months = [pad(x) for x in range(1, int(end_month) + 1)]\n",
    "        for month in months:\n",
    "            url = 'http://dados.cvm.gov.br/dados/FI/DOC/CDA/DADOS/' + 'cda_fi_' + year + month + '.zip'\n",
    "            file_name = 'cda_fi_' + year + month + '.zip'\n",
    "            with urllib.request.urlopen(url) as response, open(file_name, 'wb') as out_file:\n",
    "                shutil.copyfileobj(response, out_file)\n",
    "                with zipfile.ZipFile(file_name) as zf:\n",
    "                    zf.extractall()"
   ]
  },
  {
   "cell_type": "code",
   "execution_count": 4,
   "id": "186e96a7",
   "metadata": {},
   "outputs": [],
   "source": [
    "def download_quota_files(start_date, end_date):\n",
    "    start_date = start_date.split('-')\n",
    "    start_year = start_date[0]\n",
    "    start_month = start_date[1]\n",
    "    end_date = end_date.split('-')\n",
    "    end_year = end_date[0]\n",
    "    end_month = end_date[1]\n",
    "    years = []\n",
    "    for i in range(0, int(end_year) - int(start_year) + 1):\n",
    "        years.append(str((int(start_year) + i)))\n",
    "    for year in years:\n",
    "        if(year == start_year):\n",
    "            months = [pad(x) for x in range(int(start_month), 13)]\n",
    "        elif(year != end_year):\n",
    "            months = [pad(x) for x in range(1, 13)]\n",
    "        else:\n",
    "            months = [pad(x) for x in range(1, int(end_month) + 1)]\n",
    "        for month in months:\n",
    "            url = 'http://dados.cvm.gov.br/dados/FI/DOC/INF_DIARIO/DADOS/inf_diario_fi_' + year + month + '.csv'\n",
    "            file_name = 'inf_diario_fi_' + year + month + '.csv'\n",
    "            with urllib.request.urlopen(url) as response, open(file_name, 'wb') as out_file:\n",
    "                shutil.copyfileobj(response, out_file)"
   ]
  },
  {
   "cell_type": "code",
   "execution_count": 5,
   "id": "8a1f88e9",
   "metadata": {},
   "outputs": [],
   "source": [
    "download_quota_files(\"2019-01\", \"2019-12\")\n",
    "download_fund_files(\"2019-01\", \"2019-12\")"
   ]
  },
  {
   "cell_type": "code",
   "execution_count": 6,
   "id": "456329d6",
   "metadata": {},
   "outputs": [],
   "source": [
    "def get_fund_dataframe(year, month, cnpj):\n",
    "    csv_file = 'cda_fi_BLC_4_' + year + month + '.csv'\n",
    "    df = pd.read_csv(csv_file, sep = ';')\n",
    "    df = df.loc[df['CNPJ_FUNDO'].eq(cnpj)]\n",
    "    df = df[['CNPJ_FUNDO', 'DT_COMPTC', 'CD_ATIVO', 'VL_MERC_POS_FINAL']]\n",
    "    df.reset_index(inplace = True, drop = True)\n",
    "    return df"
   ]
  },
  {
   "cell_type": "code",
   "execution_count": 7,
   "id": "3a611bdd",
   "metadata": {},
   "outputs": [],
   "source": [
    "df = get_fund_dataframe('2019', '01', '32.812.291/0001-09')\n",
    "for month in range(2, 13):\n",
    "    if(month < 10):\n",
    "        month = '0' + str(month)\n",
    "    else:\n",
    "        month = str(month)\n",
    "    tmp = get_fund_dataframe('2019', month, '32.812.291/0001-09')\n",
    "    df = pd.concat([tmp, df], axis = 0)"
   ]
  },
  {
   "cell_type": "code",
   "execution_count": 8,
   "id": "0a210646",
   "metadata": {},
   "outputs": [],
   "source": [
    "df['month'] = pd.DatetimeIndex(df['DT_COMPTC']).month\n",
    "df['year'] = pd.DatetimeIndex(df['DT_COMPTC']).year"
   ]
  },
  {
   "cell_type": "code",
   "execution_count": 9,
   "id": "52c96647",
   "metadata": {},
   "outputs": [],
   "source": [
    "groups = df.groupby(['year', 'month']).sum().reset_index().rename(columns = {'VL_MERC_POS_FINAL' : 'SUM_VL_MERC'})"
   ]
  },
  {
   "cell_type": "code",
   "execution_count": 10,
   "id": "25c92a94",
   "metadata": {},
   "outputs": [],
   "source": [
    "df = df.merge(groups, on = ['year', 'month'])\n",
    "df['MERC_POS_PERCENTAGE'] = 100 * (df['VL_MERC_POS_FINAL'] / df['SUM_VL_MERC'])\n",
    "df.drop(columns = ['year', 'month'], inplace = True)"
   ]
  },
  {
   "cell_type": "code",
   "execution_count": 11,
   "id": "55085406",
   "metadata": {},
   "outputs": [],
   "source": [
    "df.to_excel(\"fundo_navi.xlsx\")\n",
    "df.to_csv(\"fundo_navi.csv\")"
   ]
  },
  {
   "cell_type": "code",
   "execution_count": 12,
   "id": "b5f79ff5",
   "metadata": {},
   "outputs": [],
   "source": [
    "def get_quotas_dataframe(year, month, cnpj):\n",
    "    csv_file = 'inf_diario_fi_' + year + month + '.csv'\n",
    "    df = pd.read_csv(csv_file, sep = ';')\n",
    "    df = df.loc[df['CNPJ_FUNDO'].eq(cnpj)]\n",
    "    df = df[['CNPJ_FUNDO', 'DT_COMPTC', 'VL_TOTAL', 'VL_QUOTA', 'VL_PATRIM_LIQ']]\n",
    "    df.reset_index(inplace = True, drop = True)\n",
    "    return df"
   ]
  },
  {
   "cell_type": "code",
   "execution_count": 13,
   "id": "bc7cec74",
   "metadata": {},
   "outputs": [],
   "source": [
    "df = get_quotas_dataframe('2019', '01', '32.812.291/0001-09')\n",
    "for month in range(2, 13):\n",
    "    if(month < 10):\n",
    "        month = '0' + str(month)\n",
    "    else:\n",
    "        month = str(month)\n",
    "    tmp = get_quotas_dataframe('2019', month, '32.812.291/0001-09')\n",
    "    df = pd.concat([tmp, df], axis = 0)"
   ]
  },
  {
   "cell_type": "code",
   "execution_count": 14,
   "id": "998424fc",
   "metadata": {},
   "outputs": [],
   "source": [
    "df.to_excel(\"fundo_navi_cotas.xlsx\")\n",
    "df.to_csv(\"fundo_navi_cotas.csv\")"
   ]
  }
 ],
 "metadata": {
  "kernelspec": {
   "display_name": "Python 3",
   "language": "python",
   "name": "python3"
  },
  "language_info": {
   "codemirror_mode": {
    "name": "ipython",
    "version": 3
   },
   "file_extension": ".py",
   "mimetype": "text/x-python",
   "name": "python",
   "nbconvert_exporter": "python",
   "pygments_lexer": "ipython3",
   "version": "3.8.8"
  }
 },
 "nbformat": 4,
 "nbformat_minor": 5
}
