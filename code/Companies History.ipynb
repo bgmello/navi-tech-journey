{
 "cells": [
  {
   "cell_type": "code",
   "execution_count": null,
   "id": "ea79152b",
   "metadata": {},
   "outputs": [],
   "source": [
    "import pandas as pd\n",
    "import numpy as np\n",
    "import yfinance as yf\n",
    "from datetime import datetime\n",
    "import random\n",
    "from random import randrange\n",
    "from datetime import timedelta"
   ]
  },
  {
   "cell_type": "code",
   "execution_count": null,
   "id": "8d0dd2f5",
   "metadata": {},
   "outputs": [],
   "source": [
    "environmental_history = pd.read_csv('data\\environmental_data_history_br.csv')\n",
    "companies = pd.read_csv('data\\companies_br.csv')\n",
    "companies_financials = pd.read_csv('data\\companies_financials_br.csv')\n",
    "companies_shares = pd.read_excel('data\\companies_total_outstading_shares.xlsx', sheet_name = \"Sheet1\")"
   ]
  },
  {
   "cell_type": "code",
   "execution_count": null,
   "id": "c0f0d06a",
   "metadata": {
    "scrolled": true
   },
   "outputs": [],
   "source": [
    "ids = environmental_history['company_id'].unique()\n",
    "companies = companies[companies['company_id'].isin(ids)]\n",
    "companies = companies[['company_id', 'industry', 'company_name', 'ticker']]\n",
    "companies.reset_index(inplace = True, drop = True)\n",
    "companies.head(10)"
   ]
  },
  {
   "cell_type": "code",
   "execution_count": null,
   "id": "0a6a6ef5",
   "metadata": {
    "scrolled": true
   },
   "outputs": [],
   "source": [
    "companies_shares = companies_shares[['Ticker_Curto', 'LTM2021', 'FY2020', 'FY2019',\n",
    "       'FY2018', 'FY2017', 'FY2016', 'FY2015', 'FY2014', 'FY2013']]\n",
    "companies_shares.rename(columns = {\"LTM2021\" : \"2021\", \"FY2020\": \"2020\", \"FY2019\" : \"2019\", \n",
    "                                   \"FY2018\" : \"2018\", \"FY2017\" : \"2017\", \"FY2016\" : \"2016\", \n",
    "                                   \"FY2015\" : \"2015\", \"FY2014\" : \"2014\", \"FY2013\" : \"2013\",\n",
    "                                   \"Ticker_Curto\" : \"ticker\"}, inplace = True)\n",
    "companies_shares.reset_index(inplace = True, drop = True)\n",
    "companies_shares = companies_shares.melt(id_vars=[\"ticker\"], var_name=\"fiscal_year\", value_name='out_shares')\n",
    "companies_shares.dropna(inplace = True)\n",
    "companies_shares['fiscal_year'] = companies_shares['fiscal_year'].apply(lambda x: int(x))\n",
    "companies_shares.head()"
   ]
  },
  {
   "cell_type": "code",
   "execution_count": null,
   "id": "30ad1fc9",
   "metadata": {
    "scrolled": true
   },
   "outputs": [],
   "source": [
    "# unit -> Millions BRL\n",
    "important = ['EBITDA', 'EBT, Excl. Unusual Items', 'Total Revenues']\n",
    "companies_financials = companies_financials.loc[companies_financials['company_id'].isin(ids)]\n",
    "companies_financials = companies_financials.loc[companies_financials['data_item'].isin(important)]\n",
    "companies_financials = companies_financials[['company_id', 'ref_date', 'data_item_value', 'data_item']]\n",
    "companies_financials['ref_date'] = companies_financials['ref_date'].apply(lambda x: int(x.replace(x, x.split('-')[0])))\n",
    "companies_financials = companies_financials.pivot_table(index = ['company_id', 'ref_date'], columns='data_item', values='data_item_value').reset_index()\n",
    "companies_financials.rename(columns = {\"ref_date\" : \"fiscal_year\", \"EBT, Excl. Unusual Items\" : \"EBT\", 'Total Revenues' : 'total_revenues'}, inplace = True)"
   ]
  },
  {
   "cell_type": "code",
   "execution_count": null,
   "id": "313e907f",
   "metadata": {},
   "outputs": [],
   "source": [
    "companies_informations = pd.merge(companies_financials, companies, on = ['company_id'])\n",
    "companies_informations = pd.merge(companies_informations, companies_shares, on = ['ticker', 'fiscal_year'])\n",
    "companies_informations.drop('company_id', axis = 1, inplace = True)\n",
    "companies_informations.head()"
   ]
  },
  {
   "cell_type": "code",
   "execution_count": null,
   "id": "4538259f",
   "metadata": {},
   "outputs": [],
   "source": [
    "# unit -> tCO2e\n",
    "scopes = ['Absolute: Greenhouse Gases Scope 1', 'Absolute: Greenhouse Gases Scope 2']\n",
    "environmental_history = environmental_history.loc[environmental_history['data_item_name'].isin(scopes)]\n",
    "environmental_history = environmental_history[['company_id', 'fiscal_year', 'data_item_name', 'data_item_value']]\n",
    "environmental_history = environmental_history.groupby(['company_id', 'fiscal_year'], as_index = False)['data_item_value'].sum()\n",
    "environmental_history.rename(columns = {\"data_item_value\" : \"emissions\"}, inplace = True)\n",
    "environmental_history.reset_index(inplace = True, drop = True)\n",
    "environmental_history.head()"
   ]
  },
  {
   "cell_type": "code",
   "execution_count": null,
   "id": "27584568",
   "metadata": {
    "scrolled": true
   },
   "outputs": [],
   "source": [
    "environmental_history = environmental_history.join(companies.set_index('company_id'), on = 'company_id')\n",
    "environmental_history = environmental_history.loc[environmental_history['fiscal_year'].ge(2013)]\n",
    "environmental_history.drop(['company_id', 'company_name', 'industry'], axis = 1, inplace = True)\n",
    "environmental_history.reset_index(inplace = True, drop = True)\n",
    "environmental_history.head()"
   ]
  },
  {
   "cell_type": "code",
   "execution_count": null,
   "id": "234de19a",
   "metadata": {
    "scrolled": true
   },
   "outputs": [],
   "source": [
    "companies_history = environmental_history.merge(companies_informations, on = ['ticker', 'fiscal_year'])\n",
    "companies_history.head()"
   ]
  },
  {
   "cell_type": "code",
   "execution_count": null,
   "id": "f1392a63",
   "metadata": {
    "scrolled": false
   },
   "outputs": [],
   "source": [
    "tickers = companies_history['ticker'].unique()\n",
    "average_price = {}\n",
    "last_price = {}\n",
    "for ticker in tickers:\n",
    "    try:\n",
    "        years = np.sort(companies_history.loc[companies_history['ticker'].eq(ticker)]['fiscal_year'].to_list())\n",
    "        data = yf.download(ticker + '.SA', start = datetime(years[0], 1, 1), end = datetime(years[-1] + 1, 1, 1))\n",
    "        data.reset_index(inplace = True)\n",
    "        data['year'] = pd.DatetimeIndex(data['Date']).year\n",
    "        tmp = {}\n",
    "        for year in data['year'].unique():\n",
    "            tmp[year] = data.loc[data['year'].eq(year)].iloc[-1]['Close']\n",
    "        last_price[ticker] = pd.Series(tmp)\n",
    "        average_price[ticker] = data.groupby('year')['Close'].mean()\n",
    "    except:\n",
    "        print(ticker)"
   ]
  },
  {
   "cell_type": "code",
   "execution_count": null,
   "id": "723d3808",
   "metadata": {},
   "outputs": [],
   "source": [
    "def transform_dict_into_dataframe(dic, value_column):\n",
    "    df = pd.DataFrame.from_dict(dic, orient = 'index')\n",
    "    df.reset_index(inplace = True)\n",
    "    df.rename(columns = {\"index\" : \"ticker\"}, inplace = True)\n",
    "    df = df.melt(id_vars = [\"ticker\"], var_name = \"fiscal_year\", value_name = value_column)\n",
    "    df.dropna(inplace = True)\n",
    "    return df"
   ]
  },
  {
   "cell_type": "code",
   "execution_count": null,
   "id": "4f3f2be7",
   "metadata": {},
   "outputs": [],
   "source": [
    "average_price = transform_dict_into_dataframe(average_price, 'average_price')\n",
    "last_price = transform_dict_into_dataframe(last_price, 'last_price')"
   ]
  },
  {
   "cell_type": "code",
   "execution_count": null,
   "id": "c9f94a55",
   "metadata": {},
   "outputs": [],
   "source": [
    "price_data = average_price.merge(last_price, on = ['ticker', 'fiscal_year'])"
   ]
  },
  {
   "cell_type": "code",
   "execution_count": null,
   "id": "ad6dc2ff",
   "metadata": {},
   "outputs": [],
   "source": [
    "companies_history = companies_history.merge(price_data, on = ['ticker', 'fiscal_year'])\n",
    "companies_history.to_csv('companies_history.csv')\n",
    "companies_history.to_excel('companies_history_excel.xlsx')"
   ]
  }
 ],
 "metadata": {
  "kernelspec": {
   "display_name": "Python 3",
   "language": "python",
   "name": "python3"
  },
  "language_info": {
   "codemirror_mode": {
    "name": "ipython",
    "version": 3
   },
   "file_extension": ".py",
   "mimetype": "text/x-python",
   "name": "python",
   "nbconvert_exporter": "python",
   "pygments_lexer": "ipython3",
   "version": "3.8.8"
  }
 },
 "nbformat": 4,
 "nbformat_minor": 5
}
