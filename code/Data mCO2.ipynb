{
 "cells": [
  {
   "cell_type": "code",
   "execution_count": 1,
   "id": "40e2a74a",
   "metadata": {},
   "outputs": [],
   "source": [
    "import pandas as pd\n",
    "from pycoingecko import CoinGeckoAPI\n",
    "from datetime import datetime\n",
    "cg = CoinGeckoAPI()"
   ]
  },
  {
   "cell_type": "code",
   "execution_count": 2,
   "id": "602b22a8",
   "metadata": {},
   "outputs": [],
   "source": [
    "history_mco2 = cg.get_coin_market_chart_by_id(id = 'moss-carbon-credit', vs_currency = 'brl', days = 365)['prices']"
   ]
  },
  {
   "cell_type": "code",
   "execution_count": 3,
   "id": "1fa3cc08",
   "metadata": {},
   "outputs": [],
   "source": [
    "history_mco2 = pd.DataFrame(history_mco2, columns = ['date', 'value'])"
   ]
  },
  {
   "cell_type": "code",
   "execution_count": 4,
   "id": "a5544710",
   "metadata": {},
   "outputs": [],
   "source": [
    "history_mco2['date'] = history_mco2['date'].apply(lambda x: datetime.fromtimestamp(x / 1e3))\n",
    "history_mco2['date'] = history_mco2['date'].apply(lambda x: datetime.strftime(x, '%Y-%m-%d'))"
   ]
  },
  {
   "cell_type": "code",
   "execution_count": 5,
   "id": "0ac373a6",
   "metadata": {},
   "outputs": [],
   "source": [
    "history_mco2.to_csv('history_mco2.csv')\n",
    "history_mco2.to_excel('history_mco2.xlsx')"
   ]
  },
  {
   "cell_type": "code",
   "execution_count": null,
   "id": "9300ccc0",
   "metadata": {},
   "outputs": [],
   "source": []
  }
 ],
 "metadata": {
  "kernelspec": {
   "display_name": "Python 3",
   "language": "python",
   "name": "python3"
  },
  "language_info": {
   "codemirror_mode": {
    "name": "ipython",
    "version": 3
   },
   "file_extension": ".py",
   "mimetype": "text/x-python",
   "name": "python",
   "nbconvert_exporter": "python",
   "pygments_lexer": "ipython3",
   "version": "3.8.8"
  }
 },
 "nbformat": 4,
 "nbformat_minor": 5
}
